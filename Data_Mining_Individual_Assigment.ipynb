{
  "nbformat": 4,
  "nbformat_minor": 0,
  "metadata": {
    "colab": {
      "provenance": [],
      "toc_visible": true,
      "include_colab_link": true
    },
    "kernelspec": {
      "name": "python3",
      "display_name": "Python 3"
    },
    "language_info": {
      "name": "python"
    }
  },
  "cells": [
    {
      "cell_type": "markdown",
      "metadata": {
        "id": "view-in-github",
        "colab_type": "text"
      },
      "source": [
        "<a href=\"https://colab.research.google.com/github/XinTian-1101/Data-Mining/blob/main/Data_Mining_Individual_Assigment.ipynb\" target=\"_parent\"><img src=\"https://colab.research.google.com/assets/colab-badge.svg\" alt=\"Open In Colab\"/></a>"
      ]
    },
    {
      "cell_type": "markdown",
      "source": [
        "## Data Mining Individual Assignment : Automated Feature Engineering:"
      ],
      "metadata": {
        "id": "Mz_gMWqkOPNs"
      }
    },
    {
      "cell_type": "code",
      "source": [
        "!pip install featuretools\n",
        "!pip install faker"
      ],
      "metadata": {
        "colab": {
          "base_uri": "https://localhost:8080/"
        },
        "id": "WwPUVyiIYf8Q",
        "outputId": "ba9c733b-b3f5-49d7-91a0-892d40d47272"
      },
      "execution_count": null,
      "outputs": [
        {
          "output_type": "stream",
          "name": "stdout",
          "text": [
            "Requirement already satisfied: featuretools in /usr/local/lib/python3.10/dist-packages (1.31.0)\n",
            "Requirement already satisfied: cloudpickle>=1.5.0 in /usr/local/lib/python3.10/dist-packages (from featuretools) (3.1.0)\n",
            "Requirement already satisfied: holidays>=0.17 in /usr/local/lib/python3.10/dist-packages (from featuretools) (0.59)\n",
            "Requirement already satisfied: numpy>=1.25.0 in /usr/local/lib/python3.10/dist-packages (from featuretools) (1.26.4)\n",
            "Requirement already satisfied: packaging>=20.0 in /usr/local/lib/python3.10/dist-packages (from featuretools) (24.1)\n",
            "Requirement already satisfied: pandas>=2.0.0 in /usr/local/lib/python3.10/dist-packages (from featuretools) (2.2.2)\n",
            "Requirement already satisfied: psutil>=5.7.0 in /usr/local/lib/python3.10/dist-packages (from featuretools) (5.9.5)\n",
            "Requirement already satisfied: scipy>=1.10.0 in /usr/local/lib/python3.10/dist-packages (from featuretools) (1.13.1)\n",
            "Requirement already satisfied: tqdm>=4.66.3 in /usr/local/lib/python3.10/dist-packages (from featuretools) (4.66.6)\n",
            "Requirement already satisfied: woodwork>=0.28.0 in /usr/local/lib/python3.10/dist-packages (from featuretools) (0.31.0)\n",
            "Requirement already satisfied: python-dateutil in /usr/local/lib/python3.10/dist-packages (from holidays>=0.17->featuretools) (2.8.2)\n",
            "Requirement already satisfied: pytz>=2020.1 in /usr/local/lib/python3.10/dist-packages (from pandas>=2.0.0->featuretools) (2024.2)\n",
            "Requirement already satisfied: tzdata>=2022.7 in /usr/local/lib/python3.10/dist-packages (from pandas>=2.0.0->featuretools) (2024.2)\n",
            "Requirement already satisfied: scikit-learn>=1.1.0 in /usr/local/lib/python3.10/dist-packages (from woodwork>=0.28.0->featuretools) (1.5.2)\n",
            "Requirement already satisfied: importlib-resources>=5.10.0 in /usr/local/lib/python3.10/dist-packages (from woodwork>=0.28.0->featuretools) (6.4.5)\n",
            "Requirement already satisfied: six>=1.5 in /usr/local/lib/python3.10/dist-packages (from python-dateutil->holidays>=0.17->featuretools) (1.16.0)\n",
            "Requirement already satisfied: joblib>=1.2.0 in /usr/local/lib/python3.10/dist-packages (from scikit-learn>=1.1.0->woodwork>=0.28.0->featuretools) (1.4.2)\n",
            "Requirement already satisfied: threadpoolctl>=3.1.0 in /usr/local/lib/python3.10/dist-packages (from scikit-learn>=1.1.0->woodwork>=0.28.0->featuretools) (3.5.0)\n",
            "Requirement already satisfied: faker in /usr/local/lib/python3.10/dist-packages (30.8.2)\n",
            "Requirement already satisfied: python-dateutil>=2.4 in /usr/local/lib/python3.10/dist-packages (from faker) (2.8.2)\n",
            "Requirement already satisfied: typing-extensions in /usr/local/lib/python3.10/dist-packages (from faker) (4.12.2)\n",
            "Requirement already satisfied: six>=1.5 in /usr/local/lib/python3.10/dist-packages (from python-dateutil>=2.4->faker) (1.16.0)\n"
          ]
        }
      ]
    },
    {
      "cell_type": "markdown",
      "source": [
        "### **1 Import libraries**"
      ],
      "metadata": {
        "id": "6BB82lybOkW9"
      }
    },
    {
      "cell_type": "code",
      "execution_count": null,
      "metadata": {
        "id": "wum6ATTp8icO"
      },
      "outputs": [],
      "source": [
        "import featuretools as ft\n",
        "from featuretools.primitives import AggregationPrimitive, TransformPrimitive\n",
        "import numpy as np\n",
        "import pandas as pd\n",
        "import random\n",
        "from faker import Faker\n",
        "from sklearn.preprocessing import StandardScaler, LabelEncoder"
      ]
    },
    {
      "cell_type": "markdown",
      "source": [
        "### **2. Random Generate Data Based On Constraint Set**"
      ],
      "metadata": {
        "id": "kPjjcJcvOzEt"
      }
    },
    {
      "cell_type": "code",
      "source": [
        "# Generate Realistic Fake Data\n",
        "fake = Faker()"
      ],
      "metadata": {
        "id": "EDeBz5AOKu40"
      },
      "execution_count": null,
      "outputs": []
    },
    {
      "cell_type": "code",
      "source": [
        "np.random.seed(42)\n",
        "num_orders = 50\n",
        "num_customers = 45\n",
        "num_products = 4"
      ],
      "metadata": {
        "id": "fU8dRBoELAbF"
      },
      "execution_count": null,
      "outputs": []
    },
    {
      "cell_type": "markdown",
      "source": [
        "#### 2.1 Product Data"
      ],
      "metadata": {
        "id": "5LWV8VI_LcWI"
      }
    },
    {
      "cell_type": "code",
      "source": [
        "# Generate Product Data\n",
        "product_data = {\n",
        "    'ProductID':range(201,201+num_products),\n",
        "    'Name':['Laptop', 'Tablet','Smartphone','Gaming Chair'],\n",
        "    'Category':['Electronic','Electronic','Electronic','Home'],\n",
        "    'Price' : [3600,2900,3450,750]\n",
        "}\n",
        "\n",
        "product_df = pd.DataFrame(product_data)\n",
        "print(\"Product Data\\n\",product_df.head())"
      ],
      "metadata": {
        "colab": {
          "base_uri": "https://localhost:8080/"
        },
        "id": "jYZCVFsULAeD",
        "outputId": "922db284-31ac-469d-d83c-16c0e1be2458"
      },
      "execution_count": null,
      "outputs": [
        {
          "output_type": "stream",
          "name": "stdout",
          "text": [
            "Product Data\n",
            "    ProductID          Name    Category  Price\n",
            "0        201        Laptop  Electronic   3600\n",
            "1        202        Tablet  Electronic   2900\n",
            "2        203    Smartphone  Electronic   3450\n",
            "3        204  Gaming Chair        Home    750\n"
          ]
        }
      ]
    },
    {
      "cell_type": "markdown",
      "source": [
        "#### 2.2 Customer Data"
      ],
      "metadata": {
        "id": "6p1NrhnXLowB"
      }
    },
    {
      "cell_type": "code",
      "source": [
        "# Generate Customer Data\n",
        "customers_data = {\n",
        "    'CustomerID':range(101,101+num_customers)\n",
        "}"
      ],
      "metadata": {
        "id": "zXY2G3yXLAgx"
      },
      "execution_count": null,
      "outputs": []
    },
    {
      "cell_type": "code",
      "source": [
        "# Set the earliest possible signup date and the latest possible date to generate orders\n",
        "earliest_signup_date = pd.to_datetime(\"2024-06-01\")\n",
        "latest_order_date = pd.to_datetime(\"2024-10-31\")"
      ],
      "metadata": {
        "id": "8Y5Z6o8pKu-G"
      },
      "execution_count": null,
      "outputs": []
    },
    {
      "cell_type": "code",
      "source": [
        "names = [fake.name() for _ in range(num_customers)]\n",
        "emails =  [f\"{name.lower().replace(' ','')}@example.com\" for name in names]\n",
        "signup_dates = [fake.date_between_dates(date_start = earliest_signup_date, date_end = latest_order_date) for _ in range (num_customers)]\n",
        "\n",
        "# Assign generated data to customer_data dictionery\n",
        "customers_data['Name'] = names\n",
        "customers_data['Email'] = emails\n",
        "customers_data['Income'] = np.random.randint(1500,9000,num_customers)\n",
        "customers_data['SignupDate'] = signup_dates\n",
        "\n",
        "\n",
        "customer_df = pd.DataFrame(customers_data)\n",
        "print(\"Customer Data \\n\", customer_df.head())"
      ],
      "metadata": {
        "colab": {
          "base_uri": "https://localhost:8080/"
        },
        "id": "sZlFStXhKvBD",
        "outputId": "c38bffb7-5177-4655-876a-eb5843ba8745"
      },
      "execution_count": null,
      "outputs": [
        {
          "output_type": "stream",
          "name": "stdout",
          "text": [
            "Customer Data \n",
            "    CustomerID            Name                      Email  Income  SignupDate\n",
            "0         101  Jeanette Brady  jeanettebrady@example.com    8770  2024-08-19\n",
            "1         102  Micheal Thomas  michealthomas@example.com    2360  2024-07-19\n",
            "2         103  Timothy Larson  timothylarson@example.com    6890  2024-09-21\n",
            "3         104    Kelly Chaney    kellychaney@example.com    6726  2024-09-03\n",
            "4         105    David Wright    davidwright@example.com    6691  2024-08-15\n"
          ]
        }
      ]
    },
    {
      "cell_type": "markdown",
      "source": [
        "#### 2.3 Order Data"
      ],
      "metadata": {
        "id": "9VHAHsK3Lz_D"
      }
    },
    {
      "cell_type": "code",
      "source": [
        "# Generate Order Data\n",
        "order_data = {\n",
        "    'OrderID' : range(301,301+num_orders),\n",
        "    'CustomerID': np.random.choice(customer_df['CustomerID'], num_orders), # Allowing a customer to repeat orders\n",
        "}\n",
        "\n",
        "order_dates = []\n",
        "ship_dates = []\n",
        "\n",
        "for customer_id in order_data['CustomerID']:\n",
        "    customer_signup_date = customer_df.loc[customer_df['CustomerID'] == customer_id, 'SignupDate'].values[0]\n",
        "\n",
        "    # Generate order dates after or on the signupdate\n",
        "    order_date = fake.date_between_dates(date_start = customer_signup_date, date_end = latest_order_date)\n",
        "    order_dates.append(order_date)\n",
        "\n",
        "    # Generate ShipDate on or after OrderDate, or None for undelivered orders\n",
        "    if random.random() < 0.95 : # 95% chance for delivery\n",
        "        ship_date = fake.date_between_dates(date_start = order_date, date_end=latest_order_date)\n",
        "    else :\n",
        "        ship_date = None # 0.05% chance for undelivered\n",
        "    ship_dates.append(ship_date)\n",
        "\n",
        "order_data['OrderDate'] = order_dates\n",
        "order_data['ShipDate'] = ship_dates\n",
        "\n",
        "order_df = pd.DataFrame(order_data)\n",
        "\n",
        "print(\"Order Data \\n\",order_df.head())\n",
        "print(\"\\n Customer Data \\n\", customer_df.head())"
      ],
      "metadata": {
        "colab": {
          "base_uri": "https://localhost:8080/"
        },
        "id": "8FcwYxTCKvDq",
        "outputId": "d22eb78b-ed70-483b-d4cb-50fefe2f035a"
      },
      "execution_count": null,
      "outputs": [
        {
          "output_type": "stream",
          "name": "stdout",
          "text": [
            "Order Data \n",
            "    OrderID  CustomerID   OrderDate    ShipDate\n",
            "0      301         144  2024-10-14  2024-10-21\n",
            "1      302         103  2024-10-21  2024-10-29\n",
            "2      303         137  2024-08-31  2024-09-13\n",
            "3      304         107  2024-10-27        None\n",
            "4      305         121  2024-07-24  2024-10-17\n",
            "\n",
            " Customer Data \n",
            "    CustomerID            Name                      Email  Income  SignupDate\n",
            "0         101  Jeanette Brady  jeanettebrady@example.com    8770  2024-08-19\n",
            "1         102  Micheal Thomas  michealthomas@example.com    2360  2024-07-19\n",
            "2         103  Timothy Larson  timothylarson@example.com    6890  2024-09-21\n",
            "3         104    Kelly Chaney    kellychaney@example.com    6726  2024-09-03\n",
            "4         105    David Wright    davidwright@example.com    6691  2024-08-15\n"
          ]
        }
      ]
    },
    {
      "cell_type": "code",
      "source": [
        "# Filter the customers who are in the OrderData to verify constraints\n",
        "filtered_customer_df = customer_df[customer_df['CustomerID'].isin(order_df['CustomerID'])]\n",
        "merged_df = pd.merge(order_df, customer_df, on=\"CustomerID\", how=\"inner\")\n",
        "\n",
        "print(\"Order Data (Sampled to Verify Constraints):\\n\", merged_df[['OrderID', 'CustomerID', 'OrderDate', 'ShipDate']].head())\n",
        "print(\"\\nCustomer Data Related to Orders:\\n\", merged_df[['CustomerID', 'Name', 'Email', 'SignupDate','Income']].head())"
      ],
      "metadata": {
        "colab": {
          "base_uri": "https://localhost:8080/"
        },
        "id": "zM7EryVoKvGN",
        "outputId": "b5543a2f-660d-4f0f-9412-b6d9131e0b5f"
      },
      "execution_count": null,
      "outputs": [
        {
          "output_type": "stream",
          "name": "stdout",
          "text": [
            "Order Data (Sampled to Verify Constraints):\n",
            "    OrderID  CustomerID   OrderDate    ShipDate\n",
            "0      301         144  2024-10-14  2024-10-21\n",
            "1      302         103  2024-10-21  2024-10-29\n",
            "2      303         137  2024-08-31  2024-09-13\n",
            "3      304         107  2024-10-27        None\n",
            "4      305         121  2024-07-24  2024-10-17\n",
            "\n",
            "Customer Data Related to Orders:\n",
            "    CustomerID            Name                      Email  SignupDate  Income\n",
            "0         144   Jamie Alvarez   jamiealvarez@example.com  2024-07-30    8601\n",
            "1         103  Timothy Larson  timothylarson@example.com  2024-09-21    6890\n",
            "2         137    Steven Moore    stevenmoore@example.com  2024-08-20    2582\n",
            "3         107  Robert Stevens  robertstevens@example.com  2024-10-25    4592\n",
            "4         121  Wayne Erickson  wayneerickson@example.com  2024-07-23    2269\n"
          ]
        }
      ]
    },
    {
      "cell_type": "markdown",
      "source": [
        "#### 2.4 OrderDetails Data"
      ],
      "metadata": {
        "id": "fpesjJ6yMFUi"
      }
    },
    {
      "cell_type": "code",
      "source": [
        "# Initialize empty lists for order details columns\n",
        "order_ids = []\n",
        "product_ids = []\n",
        "quantities = []\n",
        "discounts = []\n",
        "\n",
        "product_discounts = {\n",
        "    201 : 0.0,\n",
        "    202 : 0.1,\n",
        "    203 : 0.0,\n",
        "    204 : 0.05\n",
        "}\n",
        "\n",
        "min_item_per_order = 1\n",
        "max_item_per_order = 3\n",
        "\n",
        "for order_id in order_df['OrderID']:\n",
        "    num_items = np.random.randint(min_item_per_order,max_item_per_order+1)\n",
        "    selected_product_ids = np.random.choice(product_df['ProductID'],num_items,replace=True)\n",
        "\n",
        "    # For each selected product, generate a quantity and discount\n",
        "    for product_id in selected_product_ids:\n",
        "        order_ids.append(order_id) # Same order_id for all items in this order\n",
        "        product_ids.append(product_id)\n",
        "        quantities.append(np.random.randint(1,3))\n",
        "        discounts.append(product_discounts[product_id])\n",
        "\n",
        "    order_detail_df = pd.DataFrame({\n",
        "    'OrderID':order_ids,\n",
        "    'ProductID':product_ids,\n",
        "    'Quantity':quantities,\n",
        "    'Discount': discounts\n",
        "    })\n",
        "\n",
        "print(\"Order Details Data \\n\", order_detail_df.head())"
      ],
      "metadata": {
        "colab": {
          "base_uri": "https://localhost:8080/"
        },
        "id": "gu-ad3vNL7pW",
        "outputId": "e49d6177-adbc-4469-cc1b-5e2e12562a73"
      },
      "execution_count": null,
      "outputs": [
        {
          "output_type": "stream",
          "name": "stdout",
          "text": [
            "Order Details Data \n",
            "    OrderID  ProductID  Quantity  Discount\n",
            "0      301        201         1      0.00\n",
            "1      302        201         1      0.00\n",
            "2      302        201         1      0.00\n",
            "3      302        201         2      0.00\n",
            "4      303        204         2      0.05\n"
          ]
        }
      ]
    },
    {
      "cell_type": "code",
      "source": [
        "# Check total orders and total customers who placed orders\n",
        "total_orders = order_df['OrderID'].nunique()\n",
        "total_customers_placed_order = order_df['CustomerID'].nunique()\n",
        "\n",
        "print(\"Total Orders:\", total_orders)\n",
        "print(\"Total Customers who Placed Orders:\", total_customers_placed_order)"
      ],
      "metadata": {
        "colab": {
          "base_uri": "https://localhost:8080/"
        },
        "id": "DbxWK1J-L7r4",
        "outputId": "db3a1994-7eb0-4463-bf7e-16a7797226aa"
      },
      "execution_count": null,
      "outputs": [
        {
          "output_type": "stream",
          "name": "stdout",
          "text": [
            "Total Orders: 50\n",
            "Total Customers who Placed Orders: 31\n"
          ]
        }
      ]
    },
    {
      "cell_type": "code",
      "source": [
        "# Check for order_details_df got same amount as order_df\n",
        "unique_orderID_in_orderDetails = order_detail_df['OrderID'].nunique()\n",
        "\n",
        "# Total Registered Customers\n",
        "registered_customers = customer_df['CustomerID'].nunique()\n",
        "\n",
        "# Total products sell\n",
        "products = product_df['ProductID'].nunique()\n",
        "\n",
        "# Check for order_details_df got same amount as product_df\n",
        "unique_productID_in_orderDetails = order_detail_df['ProductID'].nunique()\n",
        "\n",
        "# Display the unique counts\n",
        "print(\"Unique Order IDs in order_details_df:\", unique_orderID_in_orderDetails)\n",
        "print(\"Registered Customers:\", registered_customers)\n",
        "print(\"Products:\", products)\n",
        "print(\"Unique Product IDs in order_detail_df:\", unique_productID_in_orderDetails)"
      ],
      "metadata": {
        "colab": {
          "base_uri": "https://localhost:8080/"
        },
        "id": "73Gw1xAXL7ub",
        "outputId": "0cee727f-92f5-4f2a-af3e-0fdd477ba477"
      },
      "execution_count": null,
      "outputs": [
        {
          "output_type": "stream",
          "name": "stdout",
          "text": [
            "Unique Order IDs in order_details_df: 50\n",
            "Registered Customers: 45\n",
            "Products: 4\n",
            "Unique Product IDs in order_detail_df: 4\n"
          ]
        }
      ]
    },
    {
      "cell_type": "markdown",
      "source": [
        "### **3. Save Generated Data**"
      ],
      "metadata": {
        "id": "iPSG7iQwMnwK"
      }
    },
    {
      "cell_type": "code",
      "source": [
        "order_df.to_csv('order_data.csv',index=False)\n",
        "order_detail_df.to_csv('order_details_data.csv', index=False)\n",
        "product_df.to_csv('product_data.csv', index=False)\n",
        "customer_df.to_csv('customer_data.csv', index=False)"
      ],
      "metadata": {
        "id": "FDUeS4Y4L77a"
      },
      "execution_count": null,
      "outputs": []
    },
    {
      "cell_type": "markdown",
      "source": [
        "### **4. Define Entities & Relationships**"
      ],
      "metadata": {
        "id": "IZm0QRCcPK2_"
      }
    },
    {
      "cell_type": "code",
      "source": [
        "#Initiaze Entity Set\n",
        "es = ft.EntitySet(id = 'ecommerce_set')"
      ],
      "metadata": {
        "id": "5K6_OCFHpzjm"
      },
      "execution_count": null,
      "outputs": []
    },
    {
      "cell_type": "code",
      "source": [
        "# Create Empty Entity Set\n",
        "#ORDERS\n",
        "orders_entity = es.add_dataframe(\n",
        "    dataframe_name = 'Orders',\n",
        "    dataframe = order_df,\n",
        "    index = 'OrderID',\n",
        "    time_index='OrderDate')\n",
        "\n",
        "#ORDER DETAILS\n",
        "order_details_entity = es.add_dataframe(\n",
        "    dataframe_name = 'OrderDetails',\n",
        "    dataframe = order_detail_df,\n",
        "    make_index=True,\n",
        "    index = 'OrderDetailsID')\n",
        "\n",
        "#PRODUCTS\n",
        "products_entity = es.add_dataframe(\n",
        "    dataframe_name = 'Products',\n",
        "    dataframe = product_df,\n",
        "    index = 'ProductID')\n",
        "\n",
        "#CUSTOMER\n",
        "customers_entity = es.add_dataframe(\n",
        "    dataframe_name=\"Customers\",\n",
        "    dataframe=customer_df,\n",
        "    index=\"CustomerID\",\n",
        "    time_index=\"SignupDate\"\n",
        ")"
      ],
      "metadata": {
        "colab": {
          "base_uri": "https://localhost:8080/"
        },
        "id": "uqpHW7OYpzfa",
        "outputId": "9cbfcaa5-511a-4d8d-cfcb-45677782f54f"
      },
      "execution_count": null,
      "outputs": [
        {
          "output_type": "stream",
          "name": "stderr",
          "text": [
            "/usr/local/lib/python3.10/dist-packages/woodwork/type_sys/utils.py:33: UserWarning: Could not infer format, so each element will be parsed individually, falling back to `dateutil`. To ensure parsing is consistent and as-expected, please specify a format.\n",
            "  pd.to_datetime(\n",
            "/usr/local/lib/python3.10/dist-packages/woodwork/type_sys/utils.py:33: UserWarning: Could not infer format, so each element will be parsed individually, falling back to `dateutil`. To ensure parsing is consistent and as-expected, please specify a format.\n",
            "  pd.to_datetime(\n",
            "/usr/local/lib/python3.10/dist-packages/woodwork/type_sys/utils.py:33: UserWarning: Could not infer format, so each element will be parsed individually, falling back to `dateutil`. To ensure parsing is consistent and as-expected, please specify a format.\n",
            "  pd.to_datetime(\n",
            "/usr/local/lib/python3.10/dist-packages/woodwork/type_sys/utils.py:33: UserWarning: Could not infer format, so each element will be parsed individually, falling back to `dateutil`. To ensure parsing is consistent and as-expected, please specify a format.\n",
            "  pd.to_datetime(\n",
            "/usr/local/lib/python3.10/dist-packages/woodwork/type_sys/utils.py:33: UserWarning: Could not infer format, so each element will be parsed individually, falling back to `dateutil`. To ensure parsing is consistent and as-expected, please specify a format.\n",
            "  pd.to_datetime(\n",
            "/usr/local/lib/python3.10/dist-packages/woodwork/type_sys/utils.py:33: UserWarning: Could not infer format, so each element will be parsed individually, falling back to `dateutil`. To ensure parsing is consistent and as-expected, please specify a format.\n",
            "  pd.to_datetime(\n",
            "/usr/local/lib/python3.10/dist-packages/woodwork/type_sys/utils.py:33: UserWarning: Could not infer format, so each element will be parsed individually, falling back to `dateutil`. To ensure parsing is consistent and as-expected, please specify a format.\n",
            "  pd.to_datetime(\n",
            "/usr/local/lib/python3.10/dist-packages/woodwork/type_sys/utils.py:33: UserWarning: Could not infer format, so each element will be parsed individually, falling back to `dateutil`. To ensure parsing is consistent and as-expected, please specify a format.\n",
            "  pd.to_datetime(\n"
          ]
        }
      ]
    },
    {
      "cell_type": "code",
      "source": [
        "# Define Relationships\n",
        "customer_order_relationship = es.add_relationship(\n",
        "    parent_dataframe_name=\"Customers\",\n",
        "    parent_column_name=\"CustomerID\",\n",
        "    child_dataframe_name=\"Orders\",\n",
        "    child_column_name=\"CustomerID\"\n",
        ")\n",
        "\n",
        "order_orderdetails_relationship = es.add_relationship(\n",
        "    parent_dataframe_name=\"Orders\",\n",
        "    parent_column_name=\"OrderID\",\n",
        "    child_dataframe_name=\"OrderDetails\",\n",
        "    child_column_name=\"OrderID\"\n",
        ")\n",
        "\n",
        "product_orderdetails_relationship = es.add_relationship(\n",
        "    parent_dataframe_name=\"Products\",\n",
        "    parent_column_name=\"ProductID\",\n",
        "    child_dataframe_name=\"OrderDetails\",\n",
        "    child_column_name=\"ProductID\"\n",
        ")"
      ],
      "metadata": {
        "id": "fZQZK8SDvr82"
      },
      "execution_count": null,
      "outputs": []
    },
    {
      "cell_type": "code",
      "source": [
        "# PRINT THE ENTITY SET\n",
        "print(es)"
      ],
      "metadata": {
        "colab": {
          "base_uri": "https://localhost:8080/"
        },
        "id": "S2vkUqqypza-",
        "outputId": "ea4ce441-346e-4abf-82d3-f31587587a49"
      },
      "execution_count": null,
      "outputs": [
        {
          "output_type": "stream",
          "name": "stdout",
          "text": [
            "Entityset: ecommerce_set\n",
            "  DataFrames:\n",
            "    Orders [Rows: 50, Columns: 4]\n",
            "    OrderDetails [Rows: 92, Columns: 5]\n",
            "    Products [Rows: 4, Columns: 4]\n",
            "    Customers [Rows: 45, Columns: 5]\n",
            "  Relationships:\n",
            "    Orders.CustomerID -> Customers.CustomerID\n",
            "    OrderDetails.OrderID -> Orders.OrderID\n",
            "    OrderDetails.ProductID -> Products.ProductID\n"
          ]
        }
      ]
    },
    {
      "cell_type": "code",
      "source": [
        "# SET PANDAS DISPLAY OPTIONS TO SHOW ALL COLUMNS AND ROWS\n",
        "pd.set_option('display.max_columns', None)\n",
        "pd.set_option('display.max_rows', None)"
      ],
      "metadata": {
        "id": "IXnD89EDpzYy"
      },
      "execution_count": null,
      "outputs": []
    },
    {
      "cell_type": "markdown",
      "source": [
        "### **5. Check Any Missing Values**"
      ],
      "metadata": {
        "id": "cley69qIv2lC"
      }
    },
    {
      "cell_type": "code",
      "source": [
        "print(\"Missing values in order_df : \\n\", order_df.isnull().sum())\n",
        "print(\"\\nMissing values in order_details_df:\\n\", order_detail_df.isnull().sum())\n",
        "print(\"\\nMissing values in product_df:\\n\", product_df.isnull().sum())\n",
        "print(\"\\nMissing values in customer_df:\\n\", customer_df.isnull().sum())"
      ],
      "metadata": {
        "colab": {
          "base_uri": "https://localhost:8080/"
        },
        "id": "Pt5evlanv3HD",
        "outputId": "3d03c7c5-3d72-480c-b954-65b03ccee24e"
      },
      "execution_count": null,
      "outputs": [
        {
          "output_type": "stream",
          "name": "stdout",
          "text": [
            "Missing values in order_df : \n",
            " OrderID       0\n",
            "CustomerID    0\n",
            "OrderDate     0\n",
            "ShipDate      3\n",
            "dtype: int64\n",
            "\n",
            "Missing values in order_details_df:\n",
            " OrderDetailsID    0\n",
            "OrderID           0\n",
            "ProductID         0\n",
            "Quantity          0\n",
            "Discount          0\n",
            "dtype: int64\n",
            "\n",
            "Missing values in product_df:\n",
            " ProductID    0\n",
            "Name         0\n",
            "Category     0\n",
            "Price        0\n",
            "dtype: int64\n",
            "\n",
            "Missing values in customer_df:\n",
            " CustomerID    0\n",
            "Name          0\n",
            "Email         0\n",
            "Income        0\n",
            "SignupDate    0\n",
            "dtype: int64\n"
          ]
        }
      ]
    },
    {
      "cell_type": "markdown",
      "source": [
        "Although ShipDate has missing values but since it represents orders that haven’t been shipped yet so instead of removing them, we still keeps this information."
      ],
      "metadata": {
        "id": "I421mHD7xeDp"
      }
    },
    {
      "cell_type": "markdown",
      "source": [
        "### **6. Feature Syntesis for Derived Field**\n"
      ],
      "metadata": {
        "id": "xmkKx9tjN4RH"
      }
    },
    {
      "cell_type": "code",
      "source": [
        "# Check actual columns of order_details_df\n",
        "print(order_detail_df.columns)"
      ],
      "metadata": {
        "colab": {
          "base_uri": "https://localhost:8080/"
        },
        "id": "xcW44ClNUi0Z",
        "outputId": "d92d5cec-c610-43f4-ccdf-34cd9c44c257"
      },
      "execution_count": null,
      "outputs": [
        {
          "output_type": "stream",
          "name": "stdout",
          "text": [
            "Index(['OrderDetailsID', 'OrderID', 'ProductID', 'Quantity', 'Discount'], dtype='object')\n"
          ]
        }
      ]
    },
    {
      "cell_type": "code",
      "source": [
        "agg_primitives = [\"mean\", \"sum\", \"count\"]\n",
        "trans_primitives = [\"month\", \"day\",\"year\"]\n",
        "\n",
        "features_order_details, feature_defs_order_details = ft.dfs(\n",
        "    entityset=es,\n",
        "    target_dataframe_name=\"OrderDetails\",\n",
        "    agg_primitives=agg_primitives,\n",
        "    trans_primitives=trans_primitives,\n",
        "    max_depth=2\n",
        ")\n",
        "\n",
        "print(\"Generated Features for OrderDetails:\")\n",
        "print(features_order_details.head())"
      ],
      "metadata": {
        "colab": {
          "base_uri": "https://localhost:8080/"
        },
        "id": "i-jqCMbHrUYf",
        "outputId": "80e364ac-e6e2-4d3a-993e-f901948224f2"
      },
      "execution_count": null,
      "outputs": [
        {
          "output_type": "stream",
          "name": "stderr",
          "text": [
            "/usr/local/lib/python3.10/dist-packages/featuretools/computational_backends/feature_set_calculator.py:785: FutureWarning: The provided callable <function sum at 0x784c7a9000d0> is currently using SeriesGroupBy.sum. In a future version of pandas, the provided callable will be used directly. To keep current behavior pass the string \"sum\" instead.\n",
            "  ).agg(to_agg)\n",
            "/usr/local/lib/python3.10/dist-packages/featuretools/computational_backends/feature_set_calculator.py:785: FutureWarning: The provided callable <function mean at 0x784c7a901000> is currently using SeriesGroupBy.mean. In a future version of pandas, the provided callable will be used directly. To keep current behavior pass the string \"mean\" instead.\n",
            "  ).agg(to_agg)\n",
            "/usr/local/lib/python3.10/dist-packages/featuretools/computational_backends/feature_set_calculator.py:785: FutureWarning: The provided callable <function mean at 0x784c7a901000> is currently using SeriesGroupBy.mean. In a future version of pandas, the provided callable will be used directly. To keep current behavior pass the string \"mean\" instead.\n",
            "  ).agg(to_agg)\n",
            "/usr/local/lib/python3.10/dist-packages/featuretools/computational_backends/feature_set_calculator.py:785: FutureWarning: The provided callable <function sum at 0x784c7a9000d0> is currently using SeriesGroupBy.sum. In a future version of pandas, the provided callable will be used directly. To keep current behavior pass the string \"sum\" instead.\n",
            "  ).agg(to_agg)\n"
          ]
        },
        {
          "output_type": "stream",
          "name": "stdout",
          "text": [
            "Generated Features for OrderDetails:\n",
            "                OrderID  ProductID  Quantity  Discount  Orders.CustomerID  \\\n",
            "OrderDetailsID                                                              \n",
            "0                   301        201         1      0.00                144   \n",
            "1                   302        201         1      0.00                103   \n",
            "2                   302        201         1      0.00                103   \n",
            "3                   302        201         2      0.00                103   \n",
            "4                   303        204         2      0.05                137   \n",
            "\n",
            "                Products.Price  Orders.COUNT(OrderDetails)  \\\n",
            "OrderDetailsID                                               \n",
            "0                         3600                           1   \n",
            "1                         3600                           3   \n",
            "2                         3600                           3   \n",
            "3                         3600                           3   \n",
            "4                          750                           1   \n",
            "\n",
            "                Orders.MEAN(OrderDetails.Discount)  \\\n",
            "OrderDetailsID                                       \n",
            "0                                             0.00   \n",
            "1                                             0.00   \n",
            "2                                             0.00   \n",
            "3                                             0.00   \n",
            "4                                             0.05   \n",
            "\n",
            "                Orders.MEAN(OrderDetails.Quantity)  \\\n",
            "OrderDetailsID                                       \n",
            "0                                         1.000000   \n",
            "1                                         1.333333   \n",
            "2                                         1.333333   \n",
            "3                                         1.333333   \n",
            "4                                         2.000000   \n",
            "\n",
            "                Orders.SUM(OrderDetails.Discount)  \\\n",
            "OrderDetailsID                                      \n",
            "0                                            0.00   \n",
            "1                                            0.00   \n",
            "2                                            0.00   \n",
            "3                                            0.00   \n",
            "4                                            0.05   \n",
            "\n",
            "                Orders.SUM(OrderDetails.Quantity) Orders.DAY(OrderDate)  \\\n",
            "OrderDetailsID                                                            \n",
            "0                                             1.0                    14   \n",
            "1                                             4.0                    21   \n",
            "2                                             4.0                    21   \n",
            "3                                             4.0                    21   \n",
            "4                                             2.0                    31   \n",
            "\n",
            "               Orders.DAY(ShipDate) Orders.MONTH(OrderDate)  \\\n",
            "OrderDetailsID                                                \n",
            "0                                21                      10   \n",
            "1                                29                      10   \n",
            "2                                29                      10   \n",
            "3                                29                      10   \n",
            "4                                13                       8   \n",
            "\n",
            "               Orders.MONTH(ShipDate) Orders.YEAR(OrderDate)  \\\n",
            "OrderDetailsID                                                 \n",
            "0                                  10                   2024   \n",
            "1                                  10                   2024   \n",
            "2                                  10                   2024   \n",
            "3                                  10                   2024   \n",
            "4                                   9                   2024   \n",
            "\n",
            "               Orders.YEAR(ShipDate)  Orders.Customers.Income  \\\n",
            "OrderDetailsID                                                  \n",
            "0                               2024                     8601   \n",
            "1                               2024                     6890   \n",
            "2                               2024                     6890   \n",
            "3                               2024                     6890   \n",
            "4                               2024                     2582   \n",
            "\n",
            "                Products.COUNT(OrderDetails)  \\\n",
            "OrderDetailsID                                 \n",
            "0                                         23   \n",
            "1                                         23   \n",
            "2                                         23   \n",
            "3                                         23   \n",
            "4                                         26   \n",
            "\n",
            "                Products.MEAN(OrderDetails.Discount)  \\\n",
            "OrderDetailsID                                         \n",
            "0                                               0.00   \n",
            "1                                               0.00   \n",
            "2                                               0.00   \n",
            "3                                               0.00   \n",
            "4                                               0.05   \n",
            "\n",
            "                Products.MEAN(OrderDetails.Quantity)  \\\n",
            "OrderDetailsID                                         \n",
            "0                                           1.565217   \n",
            "1                                           1.565217   \n",
            "2                                           1.565217   \n",
            "3                                           1.565217   \n",
            "4                                           1.500000   \n",
            "\n",
            "                Products.SUM(OrderDetails.Discount)  \\\n",
            "OrderDetailsID                                        \n",
            "0                                               0.0   \n",
            "1                                               0.0   \n",
            "2                                               0.0   \n",
            "3                                               0.0   \n",
            "4                                               1.3   \n",
            "\n",
            "                Products.SUM(OrderDetails.Quantity)  \n",
            "OrderDetailsID                                       \n",
            "0                                              36.0  \n",
            "1                                              36.0  \n",
            "2                                              36.0  \n",
            "3                                              36.0  \n",
            "4                                              39.0  \n"
          ]
        }
      ]
    },
    {
      "cell_type": "markdown",
      "source": [
        "#### 6.1 Line Item Revenue"
      ],
      "metadata": {
        "id": "CSZhMAUdV8mR"
      }
    },
    {
      "cell_type": "code",
      "source": [
        "# Calculate LineItemRevenue\n",
        "features_order_details[\"LineItemRevenue\"] = (\n",
        "    features_order_details[\"Quantity\"] *\n",
        "    features_order_details[\"Products.Price\"] *\n",
        "    (1 - features_order_details[\"Discount\"])\n",
        ")\n",
        "\n",
        "features_order_details[\"LineItemRevenue\"] = features_order_details[\"LineItemRevenue\"].round(0).astype(int)\n",
        "print(features_order_details [[\"OrderID\",\"LineItemRevenue\"]].head())"
      ],
      "metadata": {
        "colab": {
          "base_uri": "https://localhost:8080/"
        },
        "id": "sPTdJ7DiU68Z",
        "outputId": "405173ad-808d-4392-99d6-84f550277afc"
      },
      "execution_count": null,
      "outputs": [
        {
          "output_type": "stream",
          "name": "stdout",
          "text": [
            "                OrderID  LineItemRevenue\n",
            "OrderDetailsID                          \n",
            "0                   301             3600\n",
            "1                   302             3600\n",
            "2                   302             3600\n",
            "3                   302             7200\n",
            "4                   303             1425\n"
          ]
        }
      ]
    },
    {
      "cell_type": "code",
      "source": [
        "order_revenue_summary = features_order_details.groupby('OrderID')['LineItemRevenue'].sum().reset_index()\n",
        "order_revenue_summary.columns = ['OrderID', 'TotalLineItemRevenue']\n",
        "print(order_revenue_summary.head())"
      ],
      "metadata": {
        "colab": {
          "base_uri": "https://localhost:8080/"
        },
        "id": "ywFlgm-OHFWg",
        "outputId": "6ab17052-8667-4d8d-dac7-98b20ccb4ebd"
      },
      "execution_count": null,
      "outputs": [
        {
          "output_type": "stream",
          "name": "stdout",
          "text": [
            "   OrderID  TotalLineItemRevenue\n",
            "0      301                  3600\n",
            "1      302                 14400\n",
            "2      303                  1425\n",
            "3      304                 13950\n",
            "4      305                  3450\n"
          ]
        }
      ]
    },
    {
      "cell_type": "code",
      "source": [
        "order_quantity_summary = features_order_details.groupby('OrderID')['Quantity'].sum().reset_index()\n",
        "order_quantity_summary.columns = ['OrderID', 'TotalQuantityOrdered']\n",
        "\n",
        "order_df = order_df.merge(order_quantity_summary, on=\"OrderID\", how=\"left\")\n",
        "order_df = order_df.merge(order_revenue_summary, on=\"OrderID\", how=\"left\")\n",
        "\n",
        "order_df[\"TotalQuantityOrdered\"] = order_df[\"TotalQuantityOrdered\"].fillna(0).astype(int)\n",
        "order_df[\"TotalLineItemRevenue\"] = order_df[\"TotalLineItemRevenue\"].fillna(0)\n",
        "\n",
        "order_df = order_df.sort_values(by=\"OrderID\").reset_index(drop=True)\n",
        "print(\"Updated Order Data:\\n\", order_df)"
      ],
      "metadata": {
        "colab": {
          "base_uri": "https://localhost:8080/"
        },
        "id": "BbRNUYzGpqyG",
        "outputId": "e9c9ec78-ca34-4afe-a90d-2d158536ea23"
      },
      "execution_count": null,
      "outputs": [
        {
          "output_type": "stream",
          "name": "stdout",
          "text": [
            "Updated Order Data:\n",
            "     OrderID  CustomerID  OrderDate   ShipDate  TotalQuantityOrdered  \\\n",
            "0       301         144 2024-10-14 2024-10-21                     1   \n",
            "1       302         103 2024-10-21 2024-10-29                     4   \n",
            "2       303         137 2024-08-31 2024-09-13                     2   \n",
            "3       304         107 2024-10-27        NaT                     4   \n",
            "4       305         121 2024-07-24 2024-10-17                     1   \n",
            "5       306         109 2024-10-13 2024-10-27                     3   \n",
            "6       307         139 2024-09-21 2024-10-29                     5   \n",
            "7       308         118 2024-09-11 2024-10-05                     4   \n",
            "8       309         104 2024-09-03 2024-10-04                     2   \n",
            "9       310         125 2024-08-15 2024-10-04                     2   \n",
            "10      311         114 2024-10-30 2024-10-30                     4   \n",
            "11      312         109 2024-10-21 2024-10-21                     5   \n",
            "12      313         126 2024-08-14 2024-09-15                     1   \n",
            "13      314         102 2024-10-17 2024-10-19                     6   \n",
            "14      315         120 2024-09-25 2024-10-16                     1   \n",
            "15      316         128 2024-10-29 2024-10-29                     1   \n",
            "16      317         107 2024-10-26 2024-10-28                     1   \n",
            "17      318         144 2024-10-21 2024-10-25                     6   \n",
            "18      319         108 2024-09-07 2024-10-14                     1   \n",
            "19      320         135 2024-08-27 2024-10-30                     2   \n",
            "20      321         114 2024-10-29 2024-10-29                     4   \n",
            "21      322         117 2024-09-03 2024-10-13                     4   \n",
            "22      323         136 2024-09-06 2024-10-27                     2   \n",
            "23      324         140 2024-09-14 2024-10-18                     1   \n",
            "24      325         104 2024-10-28 2024-10-30                     1   \n",
            "25      326         102 2024-08-19 2024-10-30                     3   \n",
            "26      327         106 2024-08-08 2024-09-20                     1   \n",
            "27      328         142 2024-10-04 2024-10-22                     2   \n",
            "28      329         104 2024-09-03 2024-09-05                     3   \n",
            "29      330         129 2024-10-07 2024-10-21                     1   \n",
            "30      331         118 2024-08-06 2024-09-25                     3   \n",
            "31      332         126 2024-07-20 2024-09-17                     2   \n",
            "32      333         144 2024-10-13 2024-10-17                     1   \n",
            "33      334         134 2024-10-23 2024-10-26                     3   \n",
            "34      335         110 2024-09-20 2024-09-26                     1   \n",
            "35      336         136 2024-10-24 2024-10-25                     2   \n",
            "36      337         114 2024-10-30        NaT                     4   \n",
            "37      338         131 2024-10-16 2024-10-27                     3   \n",
            "38      339         115 2024-07-12 2024-09-15                     5   \n",
            "39      340         108 2024-09-10 2024-09-25                     2   \n",
            "40      341         114 2024-10-29 2024-10-29                     3   \n",
            "41      342         123 2024-10-28 2024-10-28                     2   \n",
            "42      343         140 2024-07-08 2024-07-24                     5   \n",
            "43      344         121 2024-09-07 2024-10-07                     3   \n",
            "44      345         116 2024-10-03 2024-10-21                     5   \n",
            "45      346         145 2024-10-22        NaT                     3   \n",
            "46      347         118 2024-08-15 2024-09-01                     2   \n",
            "47      348         124 2024-09-07 2024-10-25                     4   \n",
            "48      349         126 2024-10-04 2024-10-22                     4   \n",
            "49      350         125 2024-10-10 2024-10-12                     1   \n",
            "\n",
            "    TotalLineItemRevenue  \n",
            "0                   3600  \n",
            "1                  14400  \n",
            "2                   1425  \n",
            "3                  13950  \n",
            "4                   3450  \n",
            "5                   8670  \n",
            "6                   9337  \n",
            "7                   7485  \n",
            "8                   6900  \n",
            "9                   6900  \n",
            "10                 12420  \n",
            "11                 17550  \n",
            "12                  3450  \n",
            "13                 15825  \n",
            "14                  3450  \n",
            "15                  3450  \n",
            "16                   712  \n",
            "17                 19020  \n",
            "18                  2610  \n",
            "19                  5220  \n",
            "20                 12120  \n",
            "21                  8475  \n",
            "22                  6900  \n",
            "23                   712  \n",
            "24                  3450  \n",
            "25                  7612  \n",
            "26                  3600  \n",
            "27                  1424  \n",
            "28                  2137  \n",
            "29                  2610  \n",
            "30                  2137  \n",
            "31                  7050  \n",
            "32                  3450  \n",
            "33                  5932  \n",
            "34                   712  \n",
            "35                  6900  \n",
            "36                  8625  \n",
            "37                  4875  \n",
            "38                 14812  \n",
            "39                  1425  \n",
            "40                  9510  \n",
            "41                  7200  \n",
            "42                 11235  \n",
            "43                  6772  \n",
            "44                 12225  \n",
            "45                  7912  \n",
            "46                  7200  \n",
            "47                 11280  \n",
            "48                  8625  \n",
            "49                  2610  \n"
          ]
        }
      ]
    },
    {
      "cell_type": "markdown",
      "source": [
        "#### 6.2 Total Revenue Per Product"
      ],
      "metadata": {
        "id": "9N_MVYc-6OYL"
      }
    },
    {
      "cell_type": "code",
      "source": [
        "# Group\n",
        "TotalRevenuePerProduct = features_order_details.groupby(\"ProductID\")[\"LineItemRevenue\"].sum().reset_index()\n",
        "TotalRevenuePerProduct.columns = [\"ProductID\", \"TotalRevenuePerProduct\"]\n",
        "print(TotalRevenuePerProduct.head())"
      ],
      "metadata": {
        "colab": {
          "base_uri": "https://localhost:8080/"
        },
        "id": "9Fxh_iSSDz6Q",
        "outputId": "9b631589-3c9d-4c57-891f-bafb514f8a4c"
      },
      "execution_count": null,
      "outputs": [
        {
          "output_type": "stream",
          "name": "stdout",
          "text": [
            "   ProductID  TotalRevenuePerProduct\n",
            "0        201                  129600\n",
            "1        202                   57420\n",
            "2        203                  134550\n",
            "3        204                   27781\n"
          ]
        }
      ]
    },
    {
      "cell_type": "code",
      "source": [
        "product_df = product_df.merge(TotalRevenuePerProduct, on='ProductID', how='left')\n",
        "product_df['TotalRevenuePerProduct'] = product_df['TotalRevenuePerProduct'].fillna(0)\n",
        "print(\"Product Data\\n\", product_df.head())"
      ],
      "metadata": {
        "colab": {
          "base_uri": "https://localhost:8080/"
        },
        "id": "uw4gO7oZ6WCi",
        "outputId": "fe0c5533-a428-4063-de2c-17cc25f2bd43"
      },
      "execution_count": null,
      "outputs": [
        {
          "output_type": "stream",
          "name": "stdout",
          "text": [
            "Product Data\n",
            "    ProductID          Name    Category  Price  TotalRevenuePerProduct\n",
            "0        201        Laptop  Electronic   3600                  129600\n",
            "1        202        Tablet  Electronic   2900                   57420\n",
            "2        203    Smartphone  Electronic   3450                  134550\n",
            "3        204  Gaming Chair        Home    750                   27781\n"
          ]
        }
      ]
    },
    {
      "cell_type": "markdown",
      "source": [
        "#### 6.3 Total Customers who Placed Orders"
      ],
      "metadata": {
        "id": "BgrIXJaXZc7K"
      }
    },
    {
      "cell_type": "code",
      "source": [
        "TotalCustomersPlacedOrders= features_order_details[\"Orders.CustomerID\"].nunique()\n",
        "\n",
        "print(\"Total Customers who Placed Order:\", TotalCustomersPlacedOrders)"
      ],
      "metadata": {
        "colab": {
          "base_uri": "https://localhost:8080/"
        },
        "id": "3QduNnvRpzJ8",
        "outputId": "a7a3d67e-28d5-4547-aa46-5af25938991a"
      },
      "execution_count": null,
      "outputs": [
        {
          "output_type": "stream",
          "name": "stdout",
          "text": [
            "Total Customers who Placed Order: 31\n"
          ]
        }
      ]
    },
    {
      "cell_type": "markdown",
      "source": [
        "#### 6.4 Total Registered Customers"
      ],
      "metadata": {
        "id": "vkVeLjktieBB"
      }
    },
    {
      "cell_type": "code",
      "source": [
        "TotalRegisteredCustomers = customer_df[\"CustomerID\"].nunique()\n",
        "\n",
        "print(\"Total Registered Customers:\", TotalRegisteredCustomers)"
      ],
      "metadata": {
        "colab": {
          "base_uri": "https://localhost:8080/"
        },
        "id": "7uKEzw3yicdx",
        "outputId": "674bcd25-26b6-4487-ccf1-6478c921443e"
      },
      "execution_count": null,
      "outputs": [
        {
          "output_type": "stream",
          "name": "stdout",
          "text": [
            "Total Registered Customers: 45\n"
          ]
        }
      ]
    },
    {
      "cell_type": "markdown",
      "source": [
        "#### 6.5 Total Orders"
      ],
      "metadata": {
        "id": "XWjlDxMmabg9"
      }
    },
    {
      "cell_type": "code",
      "source": [
        "TotalOrders = features_order_details[\"OrderID\"].nunique()\n",
        "\n",
        "print(\"Total Orders:\", TotalOrders)"
      ],
      "metadata": {
        "colab": {
          "base_uri": "https://localhost:8080/"
        },
        "id": "oEry2-tIpzD9",
        "outputId": "107fd2f2-be84-41b1-9338-bfeb556a5a31"
      },
      "execution_count": null,
      "outputs": [
        {
          "output_type": "stream",
          "name": "stdout",
          "text": [
            "Total Orders: 50\n"
          ]
        }
      ]
    },
    {
      "cell_type": "markdown",
      "source": [
        "#### 6.6 Average Order Value (AOV)"
      ],
      "metadata": {
        "id": "hcG3xg-kalS1"
      }
    },
    {
      "cell_type": "code",
      "source": [
        "TotalRevenues = features_order_details[\"LineItemRevenue\"].sum()\n",
        "print(\"Total Revenues:\", int(TotalRevenues))"
      ],
      "metadata": {
        "colab": {
          "base_uri": "https://localhost:8080/"
        },
        "id": "7dyb6wBHuOo3",
        "outputId": "3fc7d02a-6689-4fef-cd14-dd773766068e"
      },
      "execution_count": null,
      "outputs": [
        {
          "output_type": "stream",
          "name": "stdout",
          "text": [
            "Total Revenues: 349351\n"
          ]
        }
      ]
    },
    {
      "cell_type": "code",
      "source": [
        "AOV = TotalRevenues / TotalOrders\n",
        "print(\"Average Order Value (AOV):\", int(AOV))"
      ],
      "metadata": {
        "colab": {
          "base_uri": "https://localhost:8080/"
        },
        "id": "kT9_ueUGalkn",
        "outputId": "7399ff42-873c-46c0-d23e-2bef7e04abb1"
      },
      "execution_count": null,
      "outputs": [
        {
          "output_type": "stream",
          "name": "stdout",
          "text": [
            "Average Order Value (AOV): 6987\n"
          ]
        }
      ]
    },
    {
      "cell_type": "markdown",
      "source": [
        "#### 6.7 Average Purchase Frequency (APF)"
      ],
      "metadata": {
        "id": "tGmK2Nd7b-kM"
      }
    },
    {
      "cell_type": "code",
      "source": [
        "APF = TotalOrders / TotalCustomersPlacedOrders\n",
        "APF = round(APF, 2)\n",
        "print(\"Average Purchase Frequency (APF):\", APF)"
      ],
      "metadata": {
        "colab": {
          "base_uri": "https://localhost:8080/"
        },
        "id": "8h6Pbl7VfXD4",
        "outputId": "92c27a9a-6a53-4170-c5e6-54a0921e2e3f"
      },
      "execution_count": null,
      "outputs": [
        {
          "output_type": "stream",
          "name": "stdout",
          "text": [
            "Average Purchase Frequency (APF): 1.61\n"
          ]
        }
      ]
    },
    {
      "cell_type": "markdown",
      "source": [
        "#### 6.8 Customer Lifetime Value (CLV)"
      ],
      "metadata": {
        "id": "vcjl1O3BcXiY"
      }
    },
    {
      "cell_type": "code",
      "source": [
        "# From June 2024 untill Octorber 2024 : 153 days / 365 days ≈ 0.42 years\n",
        "average_customer_lifetime_years = 0.42\n",
        "\n",
        "CLV = AOV * APF * average_customer_lifetime_years\n",
        "CLV = round(CLV, 2)\n",
        "print(\"Customer Lifetime Value (CLV):\", CLV)"
      ],
      "metadata": {
        "colab": {
          "base_uri": "https://localhost:8080/"
        },
        "id": "DqxcGr04chAY",
        "outputId": "df301493-f465-44b1-f74a-375c228bbb41"
      },
      "execution_count": null,
      "outputs": [
        {
          "output_type": "stream",
          "name": "stdout",
          "text": [
            "Customer Lifetime Value (CLV): 4724.62\n"
          ]
        }
      ]
    },
    {
      "cell_type": "markdown",
      "source": [
        "#### 6.9 Customer Segmentation and Profiling"
      ],
      "metadata": {
        "id": "akUjNfD_uZZd"
      }
    },
    {
      "cell_type": "code",
      "source": [
        "bins = [0, 2499, 3169, 3969, 4849, 5879, 7099, 8699, 10959]\n",
        "labels = ['B1', 'B2', 'B3', 'B4', 'M1', 'M2', 'M3', 'M4']\n",
        "\n",
        "customer_df['IncomeLevel'] = pd.cut(customer_df['Income'], bins=bins, labels=labels)"
      ],
      "metadata": {
        "id": "M7nvG6UXuZsS"
      },
      "execution_count": null,
      "outputs": []
    },
    {
      "cell_type": "code",
      "source": [
        "average_income = round(customer_df['Income'].mean(), 2)\n",
        "avg_income_per_level = customer_df.groupby('IncomeLevel')['Income'].mean().round(2)\n",
        "\n",
        "print(\"Average Income:\\n\", average_income)\n",
        "print(\"\\nAverage Income per Level:\\n\", avg_income_per_level)"
      ],
      "metadata": {
        "colab": {
          "base_uri": "https://localhost:8080/"
        },
        "id": "mMoh7VW3wqGv",
        "outputId": "f1ccfe62-95d3-4610-a5f5-7cd81cc4c232"
      },
      "execution_count": null,
      "outputs": [
        {
          "output_type": "stream",
          "name": "stdout",
          "text": [
            "Average Income:\n",
            " 5226.49\n",
            "\n",
            "Average Income per Level:\n",
            " IncomeLevel\n",
            "B1    2051.86\n",
            "B2    2633.00\n",
            "B3    3572.40\n",
            "B4    4375.00\n",
            "M1    5179.50\n",
            "M2    6590.50\n",
            "M3    7838.38\n",
            "M4    8873.00\n",
            "Name: Income, dtype: float64\n"
          ]
        },
        {
          "output_type": "stream",
          "name": "stderr",
          "text": [
            "<ipython-input-190-b50574e904f0>:2: FutureWarning: The default of observed=False is deprecated and will be changed to True in a future version of pandas. Pass observed=False to retain current behavior or observed=True to adopt the future default and silence this warning.\n",
            "  avg_income_per_level = customer_df.groupby('IncomeLevel')['Income'].mean().round(2)\n"
          ]
        }
      ]
    },
    {
      "cell_type": "code",
      "source": [
        "# Revenue by Income Group\n",
        "customer_orders = order_df.merge(customer_df[['CustomerID', 'Income', 'IncomeLevel']], on='CustomerID', how='left')\n",
        "\n",
        "orders_per_income_group = customer_orders.groupby('IncomeLevel')['OrderID'].count().reset_index()\n",
        "orders_per_income_group.columns = ['IncomeLevel', 'TotalOrders']\n",
        "\n",
        "customer_order_revenue = features_order_details.merge(customer_orders[['OrderID', 'IncomeLevel']], on='OrderID', how='left')\n",
        "\n",
        "revenue_per_income_group = customer_order_revenue.groupby('IncomeLevel')['LineItemRevenue'].sum().reset_index()\n",
        "revenue_per_income_group.columns = ['IncomeLevel', 'TotalRevenue']\n",
        "\n",
        "income_group_insights = orders_per_income_group.merge(revenue_per_income_group, on='IncomeLevel', how='left')\n",
        "print(income_group_insights)"
      ],
      "metadata": {
        "colab": {
          "base_uri": "https://localhost:8080/"
        },
        "id": "sZdkDQK4xIOj",
        "outputId": "70f00ba2-41c3-4649-ed6f-401cd8841da1"
      },
      "execution_count": null,
      "outputs": [
        {
          "output_type": "stream",
          "name": "stdout",
          "text": [
            "  IncomeLevel  TotalOrders  TotalRevenue\n",
            "0          B1           10         64993\n",
            "1          B2            2          4035\n",
            "2          B3            4         20271\n",
            "3          B4            8         60441\n",
            "4          M1            3         23287\n",
            "5          M2            8         51944\n",
            "6          M3           14        120930\n",
            "7          M4            1          3450\n"
          ]
        },
        {
          "output_type": "stream",
          "name": "stderr",
          "text": [
            "<ipython-input-191-14a0bdd75051>:4: FutureWarning: The default of observed=False is deprecated and will be changed to True in a future version of pandas. Pass observed=False to retain current behavior or observed=True to adopt the future default and silence this warning.\n",
            "  orders_per_income_group = customer_orders.groupby('IncomeLevel')['OrderID'].count().reset_index()\n",
            "<ipython-input-191-14a0bdd75051>:9: FutureWarning: The default of observed=False is deprecated and will be changed to True in a future version of pandas. Pass observed=False to retain current behavior or observed=True to adopt the future default and silence this warning.\n",
            "  revenue_per_income_group = customer_order_revenue.groupby('IncomeLevel')['LineItemRevenue'].sum().reset_index()\n"
          ]
        }
      ]
    },
    {
      "cell_type": "markdown",
      "source": [
        "### **7. Save New Dataset with Generated Features**"
      ],
      "metadata": {
        "id": "pcZ1iyGP0w0C"
      }
    },
    {
      "cell_type": "code",
      "source": [
        "order_df.to_csv('order_data.csv',index=False)\n",
        "order_detail_df.to_csv('order_details_data.csv', index=False)\n",
        "product_df.to_csv('product_data.csv', index=False)\n",
        "customer_df.to_csv('customer_data.csv', index=False)"
      ],
      "metadata": {
        "id": "D7HfxkIX0laI"
      },
      "execution_count": null,
      "outputs": []
    }
  ]
}